{
 "cells": [
  {
   "cell_type": "code",
   "execution_count": 1,
   "id": "04ad6b4c",
   "metadata": {},
   "outputs": [
    {
     "name": "stdout",
     "output_type": "stream",
     "text": [
      "Precision: 0.40\n",
      "Recall: 0.50\n"
     ]
    }
   ],
   "source": [
    "def calculate_precision_and_recall(answer_set, relevant_set):\n",
    "    # Calculate the number of relevant documents retrieved (intersection of A and Rq1)\n",
    "    relevant_retrieved = set(answer_set).intersection(set(relevant_set))\n",
    "    \n",
    "    # Precision: Relevant documents retrieved / Total documents retrieved\n",
    "    precision = len(relevant_retrieved) / len(answer_set) if len(answer_set) > 0 else 0\n",
    "    \n",
    "    # Recall: Relevant documents retrieved / Total relevant documents\n",
    "    recall = len(relevant_retrieved) / len(relevant_set) if len(relevant_set) > 0 else 0\n",
    "    \n",
    "    return precision, recall\n",
    "\n",
    "# Main function\n",
    "def main():\n",
    "    # Sample input\n",
    "    query = \"q1\"  # The query itself is not used in calculations, just for reference\n",
    "    answer_set_A = [\"doc1\", \"doc2\", \"doc3\", \"doc4\", \"doc5\"]  # Documents retrieved by the system\n",
    "    relevant_docs_Rq1 = [\"doc1\", \"doc3\", \"doc7\", \"doc8\"]  # Documents relevant to the query q1\n",
    "    \n",
    "    # Calculate precision and recall\n",
    "    precision, recall = calculate_precision_and_recall(answer_set_A, relevant_docs_Rq1)\n",
    "    \n",
    "    # Output the results\n",
    "    print(f\"Precision: {precision:.2f}\")\n",
    "    print(f\"Recall: {recall:.2f}\")\n",
    "\n",
    "# Run the main function\n",
    "if __name__ == '__main__':\n",
    "    main()\n"
   ]
  },
  {
   "cell_type": "code",
   "execution_count": null,
   "id": "67eb583d",
   "metadata": {},
   "outputs": [],
   "source": []
  }
 ],
 "metadata": {
  "kernelspec": {
   "display_name": "Python 3 (ipykernel)",
   "language": "python",
   "name": "python3"
  },
  "language_info": {
   "codemirror_mode": {
    "name": "ipython",
    "version": 3
   },
   "file_extension": ".py",
   "mimetype": "text/x-python",
   "name": "python",
   "nbconvert_exporter": "python",
   "pygments_lexer": "ipython3",
   "version": "3.11.5"
  }
 },
 "nbformat": 4,
 "nbformat_minor": 5
}
